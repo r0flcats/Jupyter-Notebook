{
    "cells": [
        {
            "cell_type": "markdown",
            "metadata": {},
            "source": "# **<div style='text-align:center'>Exercicio 1 - json </div>**"
        },
        {
            "cell_type": "code",
            "execution_count": 8,
            "metadata": {},
            "outputs": [],
            "source": "# The code was removed by Watson Studio for sharing."
        },
        {
            "cell_type": "code",
            "execution_count": 9,
            "metadata": {},
            "outputs": [
                {
                    "data": {
                        "text/html": "<div>\n<style scoped>\n    .dataframe tbody tr th:only-of-type {\n        vertical-align: middle;\n    }\n\n    .dataframe tbody tr th {\n        vertical-align: top;\n    }\n\n    .dataframe thead th {\n        text-align: right;\n    }\n</style>\n<table border=\"1\" class=\"dataframe\">\n  <thead>\n    <tr style=\"text-align: right;\">\n      <th></th>\n      <th>date</th>\n      <th>name</th>\n      <th>value</th>\n    </tr>\n  </thead>\n  <tbody>\n    <tr>\n      <th>0</th>\n      <td>2018-12-12</td>\n      <td>Kimble</td>\n      <td>93.28</td>\n    </tr>\n    <tr>\n      <th>1</th>\n      <td>2019-03-08</td>\n      <td>Alanna</td>\n      <td>10.51</td>\n    </tr>\n    <tr>\n      <th>2</th>\n      <td>2019-10-09</td>\n      <td>Jay</td>\n      <td>29.41</td>\n    </tr>\n    <tr>\n      <th>3</th>\n      <td>2019-07-28</td>\n      <td>Rustin</td>\n      <td>47.94</td>\n    </tr>\n    <tr>\n      <th>4</th>\n      <td>2019-03-23</td>\n      <td>Pedro</td>\n      <td>98.77</td>\n    </tr>\n  </tbody>\n</table>\n</div>",
                        "text/plain": "        date    name  value\n0 2018-12-12  Kimble  93.28\n1 2019-03-08  Alanna  10.51\n2 2019-10-09     Jay  29.41\n3 2019-07-28  Rustin  47.94\n4 2019-03-23   Pedro  98.77"
                    },
                    "execution_count": 9,
                    "metadata": {},
                    "output_type": "execute_result"
                }
            ],
            "source": "df_data_1 = pd.read_json(body, orient='values')\ndf_data_1.head()"
        },
        {
            "cell_type": "code",
            "execution_count": 6,
            "metadata": {},
            "outputs": [],
            "source": "def func1 (x):\n    x = x.sort_values(['date'])\n    return x\n\ndef func2 (y):\n    y = y.sort_values(['name'])\n    return y\n\ndef func3 (z):\n    z = z.sort_values(['value'])\n    return z\n\n#func1 define a ordena\u00e7\u00e3o por Data\n#func2 define a ordena\u00e7\u00e3o por Nome\n#func3 define a ordena\u00e7\u00e3o pelos Valores"
        },
        {
            "cell_type": "code",
            "execution_count": 3,
            "metadata": {},
            "outputs": [
                {
                    "data": {
                        "text/html": "<div>\n<style scoped>\n    .dataframe tbody tr th:only-of-type {\n        vertical-align: middle;\n    }\n\n    .dataframe tbody tr th {\n        vertical-align: top;\n    }\n\n    .dataframe thead th {\n        text-align: right;\n    }\n</style>\n<table border=\"1\" class=\"dataframe\">\n  <thead>\n    <tr style=\"text-align: right;\">\n      <th></th>\n      <th>date</th>\n      <th>name</th>\n      <th>value</th>\n    </tr>\n  </thead>\n  <tbody>\n    <tr>\n      <th>16</th>\n      <td>2018-11-23</td>\n      <td>Culver</td>\n      <td>68.38</td>\n    </tr>\n    <tr>\n      <th>15</th>\n      <td>2018-11-24</td>\n      <td>Xenia</td>\n      <td>43.61</td>\n    </tr>\n    <tr>\n      <th>0</th>\n      <td>2018-12-12</td>\n      <td>Kimble</td>\n      <td>93.28</td>\n    </tr>\n    <tr>\n      <th>10</th>\n      <td>2019-01-13</td>\n      <td>Kristine</td>\n      <td>26.09</td>\n    </tr>\n    <tr>\n      <th>24</th>\n      <td>2019-01-27</td>\n      <td>Christabel</td>\n      <td>73.09</td>\n    </tr>\n    <tr>\n      <th>13</th>\n      <td>2019-02-03</td>\n      <td>Claudine</td>\n      <td>26.28</td>\n    </tr>\n    <tr>\n      <th>8</th>\n      <td>2019-02-14</td>\n      <td>Graig</td>\n      <td>79.75</td>\n    </tr>\n    <tr>\n      <th>1</th>\n      <td>2019-03-08</td>\n      <td>Alanna</td>\n      <td>10.51</td>\n    </tr>\n    <tr>\n      <th>5</th>\n      <td>2019-03-21</td>\n      <td>Isac</td>\n      <td>5.21</td>\n    </tr>\n    <tr>\n      <th>4</th>\n      <td>2019-03-23</td>\n      <td>Pedro</td>\n      <td>98.77</td>\n    </tr>\n    <tr>\n      <th>14</th>\n      <td>2019-04-07</td>\n      <td>Honoria</td>\n      <td>93.40</td>\n    </tr>\n    <tr>\n      <th>6</th>\n      <td>2019-04-10</td>\n      <td>Gayla</td>\n      <td>40.03</td>\n    </tr>\n    <tr>\n      <th>20</th>\n      <td>2019-04-11</td>\n      <td>Jackson</td>\n      <td>53.92</td>\n    </tr>\n    <tr>\n      <th>17</th>\n      <td>2019-05-14</td>\n      <td>Paddie</td>\n      <td>99.52</td>\n    </tr>\n    <tr>\n      <th>23</th>\n      <td>2019-05-25</td>\n      <td>Jack</td>\n      <td>87.38</td>\n    </tr>\n    <tr>\n      <th>22</th>\n      <td>2019-06-18</td>\n      <td>Christie</td>\n      <td>83.61</td>\n    </tr>\n    <tr>\n      <th>3</th>\n      <td>2019-07-28</td>\n      <td>Rustin</td>\n      <td>47.94</td>\n    </tr>\n    <tr>\n      <th>19</th>\n      <td>2019-08-02</td>\n      <td>Tadio</td>\n      <td>4.40</td>\n    </tr>\n    <tr>\n      <th>18</th>\n      <td>2019-08-17</td>\n      <td>Livy</td>\n      <td>51.81</td>\n    </tr>\n    <tr>\n      <th>12</th>\n      <td>2019-08-21</td>\n      <td>Teri</td>\n      <td>22.17</td>\n    </tr>\n    <tr>\n      <th>2</th>\n      <td>2019-10-09</td>\n      <td>Jay</td>\n      <td>29.41</td>\n    </tr>\n    <tr>\n      <th>11</th>\n      <td>2019-10-10</td>\n      <td>Brenden</td>\n      <td>41.40</td>\n    </tr>\n    <tr>\n      <th>7</th>\n      <td>2019-10-16</td>\n      <td>Ransell</td>\n      <td>80.89</td>\n    </tr>\n    <tr>\n      <th>21</th>\n      <td>2019-10-19</td>\n      <td>Elise</td>\n      <td>35.62</td>\n    </tr>\n    <tr>\n      <th>9</th>\n      <td>2019-10-21</td>\n      <td>Jacquenetta</td>\n      <td>97.73</td>\n    </tr>\n  </tbody>\n</table>\n</div>",
                        "text/plain": "         date         name  value\n16 2018-11-23       Culver  68.38\n15 2018-11-24        Xenia  43.61\n0  2018-12-12       Kimble  93.28\n10 2019-01-13     Kristine  26.09\n24 2019-01-27   Christabel  73.09\n13 2019-02-03     Claudine  26.28\n8  2019-02-14        Graig  79.75\n1  2019-03-08       Alanna  10.51\n5  2019-03-21         Isac   5.21\n4  2019-03-23        Pedro  98.77\n14 2019-04-07      Honoria  93.40\n6  2019-04-10        Gayla  40.03\n20 2019-04-11      Jackson  53.92\n17 2019-05-14       Paddie  99.52\n23 2019-05-25         Jack  87.38\n22 2019-06-18     Christie  83.61\n3  2019-07-28       Rustin  47.94\n19 2019-08-02        Tadio   4.40\n18 2019-08-17         Livy  51.81\n12 2019-08-21         Teri  22.17\n2  2019-10-09          Jay  29.41\n11 2019-10-10      Brenden  41.40\n7  2019-10-16      Ransell  80.89\n21 2019-10-19        Elise  35.62\n9  2019-10-21  Jacquenetta  97.73"
                    },
                    "execution_count": 3,
                    "metadata": {},
                    "output_type": "execute_result"
                }
            ],
            "source": "func1 (df_data_1)"
        },
        {
            "cell_type": "markdown",
            "metadata": {},
            "source": "# **<div style='text-align:center'>Exercicio 2 - CSV</div>**"
        },
        {
            "cell_type": "code",
            "execution_count": 4,
            "metadata": {},
            "outputs": [
                {
                    "data": {
                        "text/html": "<div>\n<style scoped>\n    .dataframe tbody tr th:only-of-type {\n        vertical-align: middle;\n    }\n\n    .dataframe tbody tr th {\n        vertical-align: top;\n    }\n\n    .dataframe thead th {\n        text-align: right;\n    }\n</style>\n<table border=\"1\" class=\"dataframe\">\n  <thead>\n    <tr style=\"text-align: right;\">\n      <th></th>\n      <th>name</th>\n    </tr>\n  </thead>\n  <tbody>\n    <tr>\n      <th>0</th>\n      <td>Rog</td>\n    </tr>\n    <tr>\n      <th>1</th>\n      <td>Robinett</td>\n    </tr>\n    <tr>\n      <th>2</th>\n      <td>Stacee</td>\n    </tr>\n    <tr>\n      <th>3</th>\n      <td>Rutter</td>\n    </tr>\n    <tr>\n      <th>4</th>\n      <td>Candi</td>\n    </tr>\n  </tbody>\n</table>\n</div>",
                        "text/plain": "       name\n0       Rog\n1  Robinett\n2    Stacee\n3    Rutter\n4     Candi"
                    },
                    "execution_count": 4,
                    "metadata": {},
                    "output_type": "execute_result"
                }
            ],
            "source": "\nbody = client_f6f115930b494f62ba73b212681c9b2a.get_object(Bucket='testepythonenio1-donotdelete-pr-wopt5yloexyfnx',Key='data.csv')['Body']\n# add missing __iter__ method, so pandas accepts body as file-like object\nif not hasattr(body, \"__iter__\"): body.__iter__ = types.MethodType( __iter__, body )\n\n# If you are reading an Excel file into a pandas DataFrame, replace `read_csv` by `read_excel` in the next statement.\ndf_data_0 = pd.read_csv(body)\ndf_data_0.head()"
        },
        {
            "cell_type": "code",
            "execution_count": 5,
            "metadata": {},
            "outputs": [],
            "source": "def funcsv (a):\n    a.drop_duplicates()\n    a = a.sort_values(['name'])\n    \n    return a\n\n#Fun\u00e7\u00e3o funcsv remove as duplicadas e classifica por nome"
        },
        {
            "cell_type": "code",
            "execution_count": 6,
            "metadata": {},
            "outputs": [
                {
                    "data": {
                        "text/html": "<div>\n<style scoped>\n    .dataframe tbody tr th:only-of-type {\n        vertical-align: middle;\n    }\n\n    .dataframe tbody tr th {\n        vertical-align: top;\n    }\n\n    .dataframe thead th {\n        text-align: right;\n    }\n</style>\n<table border=\"1\" class=\"dataframe\">\n  <thead>\n    <tr style=\"text-align: right;\">\n      <th></th>\n      <th>name</th>\n    </tr>\n  </thead>\n  <tbody>\n    <tr>\n      <th>73</th>\n      <td>Adrianne</td>\n    </tr>\n    <tr>\n      <th>74</th>\n      <td>Alene</td>\n    </tr>\n    <tr>\n      <th>46</th>\n      <td>Alessandro</td>\n    </tr>\n    <tr>\n      <th>20</th>\n      <td>Alfons</td>\n    </tr>\n    <tr>\n      <th>99</th>\n      <td>Anthony</td>\n    </tr>\n    <tr>\n      <th>75</th>\n      <td>Armin</td>\n    </tr>\n    <tr>\n      <th>51</th>\n      <td>Artemis</td>\n    </tr>\n    <tr>\n      <th>41</th>\n      <td>Berne</td>\n    </tr>\n    <tr>\n      <th>90</th>\n      <td>Bunni</td>\n    </tr>\n    <tr>\n      <th>35</th>\n      <td>Calv</td>\n    </tr>\n    <tr>\n      <th>4</th>\n      <td>Candi</td>\n    </tr>\n    <tr>\n      <th>92</th>\n      <td>Carlyn</td>\n    </tr>\n    <tr>\n      <th>67</th>\n      <td>Caspar</td>\n    </tr>\n    <tr>\n      <th>79</th>\n      <td>Christie</td>\n    </tr>\n    <tr>\n      <th>80</th>\n      <td>Cindie</td>\n    </tr>\n    <tr>\n      <th>29</th>\n      <td>Clarence</td>\n    </tr>\n    <tr>\n      <th>12</th>\n      <td>Clarisse</td>\n    </tr>\n    <tr>\n      <th>85</th>\n      <td>Codi</td>\n    </tr>\n    <tr>\n      <th>60</th>\n      <td>Constantino</td>\n    </tr>\n    <tr>\n      <th>84</th>\n      <td>Cristionna</td>\n    </tr>\n    <tr>\n      <th>97</th>\n      <td>Daffi</td>\n    </tr>\n    <tr>\n      <th>21</th>\n      <td>Daune</td>\n    </tr>\n    <tr>\n      <th>13</th>\n      <td>Druci</td>\n    </tr>\n    <tr>\n      <th>22</th>\n      <td>Ellswerth</td>\n    </tr>\n    <tr>\n      <th>34</th>\n      <td>Elora</td>\n    </tr>\n    <tr>\n      <th>62</th>\n      <td>Fanchette</td>\n    </tr>\n    <tr>\n      <th>89</th>\n      <td>Fanya</td>\n    </tr>\n    <tr>\n      <th>5</th>\n      <td>Farica</td>\n    </tr>\n    <tr>\n      <th>59</th>\n      <td>Gaile</td>\n    </tr>\n    <tr>\n      <th>6</th>\n      <td>Garrard</td>\n    </tr>\n    <tr>\n      <th>...</th>\n      <td>...</td>\n    </tr>\n    <tr>\n      <th>82</th>\n      <td>Perle</td>\n    </tr>\n    <tr>\n      <th>57</th>\n      <td>Philippine</td>\n    </tr>\n    <tr>\n      <th>23</th>\n      <td>Portia</td>\n    </tr>\n    <tr>\n      <th>14</th>\n      <td>Rafaela</td>\n    </tr>\n    <tr>\n      <th>33</th>\n      <td>Reginauld</td>\n    </tr>\n    <tr>\n      <th>11</th>\n      <td>Reine</td>\n    </tr>\n    <tr>\n      <th>72</th>\n      <td>Reinold</td>\n    </tr>\n    <tr>\n      <th>47</th>\n      <td>Retha</td>\n    </tr>\n    <tr>\n      <th>30</th>\n      <td>Riobard</td>\n    </tr>\n    <tr>\n      <th>1</th>\n      <td>Robinett</td>\n    </tr>\n    <tr>\n      <th>0</th>\n      <td>Rog</td>\n    </tr>\n    <tr>\n      <th>58</th>\n      <td>Rozelle</td>\n    </tr>\n    <tr>\n      <th>3</th>\n      <td>Rutter</td>\n    </tr>\n    <tr>\n      <th>53</th>\n      <td>Shandy</td>\n    </tr>\n    <tr>\n      <th>25</th>\n      <td>Slade</td>\n    </tr>\n    <tr>\n      <th>49</th>\n      <td>Sorcha</td>\n    </tr>\n    <tr>\n      <th>2</th>\n      <td>Stacee</td>\n    </tr>\n    <tr>\n      <th>76</th>\n      <td>Steven</td>\n    </tr>\n    <tr>\n      <th>61</th>\n      <td>Sven</td>\n    </tr>\n    <tr>\n      <th>40</th>\n      <td>Tandie</td>\n    </tr>\n    <tr>\n      <th>71</th>\n      <td>Tanney</td>\n    </tr>\n    <tr>\n      <th>48</th>\n      <td>Tasha</td>\n    </tr>\n    <tr>\n      <th>18</th>\n      <td>Theresa</td>\n    </tr>\n    <tr>\n      <th>7</th>\n      <td>Venus</td>\n    </tr>\n    <tr>\n      <th>26</th>\n      <td>Verne</td>\n    </tr>\n    <tr>\n      <th>28</th>\n      <td>Vevay</td>\n    </tr>\n    <tr>\n      <th>52</th>\n      <td>Whitney</td>\n    </tr>\n    <tr>\n      <th>86</th>\n      <td>William</td>\n    </tr>\n    <tr>\n      <th>15</th>\n      <td>Wolfy</td>\n    </tr>\n    <tr>\n      <th>87</th>\n      <td>Zarah</td>\n    </tr>\n  </tbody>\n</table>\n<p>100 rows \u00d7 1 columns</p>\n</div>",
                        "text/plain": "           name\n73     Adrianne\n74        Alene\n46   Alessandro\n20       Alfons\n99      Anthony\n75        Armin\n51      Artemis\n41        Berne\n90        Bunni\n35         Calv\n4         Candi\n92       Carlyn\n67       Caspar\n79     Christie\n80       Cindie\n29     Clarence\n12     Clarisse\n85         Codi\n60  Constantino\n84   Cristionna\n97        Daffi\n21        Daune\n13        Druci\n22    Ellswerth\n34        Elora\n62    Fanchette\n89        Fanya\n5        Farica\n59        Gaile\n6       Garrard\n..          ...\n82        Perle\n57   Philippine\n23       Portia\n14      Rafaela\n33    Reginauld\n11        Reine\n72      Reinold\n47        Retha\n30      Riobard\n1      Robinett\n0           Rog\n58      Rozelle\n3        Rutter\n53       Shandy\n25        Slade\n49       Sorcha\n2        Stacee\n76       Steven\n61         Sven\n40       Tandie\n71       Tanney\n48        Tasha\n18      Theresa\n7         Venus\n26        Verne\n28        Vevay\n52      Whitney\n86      William\n15        Wolfy\n87        Zarah\n\n[100 rows x 1 columns]"
                    },
                    "execution_count": 6,
                    "metadata": {},
                    "output_type": "execute_result"
                }
            ],
            "source": "funcsv (df_data_0)"
        },
        {
            "cell_type": "markdown",
            "metadata": {},
            "source": "# **<div style='text-align:center'>Exercicio 3 - Equa\u00e7\u00e3o</div>**"
        },
        {
            "cell_type": "code",
            "execution_count": 7,
            "metadata": {},
            "outputs": [
                {
                    "name": "stdout",
                    "output_type": "stream",
                    "text": "Calcularemos o resultado da conta \"Y=X\u00b2+2X-20\"\nDefina o valor de X: 0\nO valor de X \u00e9:  0.0\n"
                }
            ],
            "source": "print('Calcularemos o resultado da conta \"Y=X\u00b2+2X-20\"')\nX = float(input('Defina o valor de X: '))\nprint('O valor de X \u00e9: ', X)\n\n#Define o desafio\n#Define X como variavel que o usu\u00e1rio aplica"
        },
        {
            "cell_type": "code",
            "execution_count": 8,
            "metadata": {},
            "outputs": [
                {
                    "name": "stdout",
                    "output_type": "stream",
                    "text": "Eu j\u00e1 sei qual a resposta certa, mas por que voc\u00ea n\u00e3o tenta tamb\u00e9m?\nQual o valor que voc\u00ea chegou? \n0\n"
                }
            ],
            "source": "Y = X**2+2*X-20\nprint('Eu j\u00e1 sei qual a resposta certa, mas por que voc\u00ea n\u00e3o tenta tamb\u00e9m?')\nZ = float(input('Qual o valor que voc\u00ea chegou? \\n'))\n\n#Define Y como resultado da equa\u00e7\u00e3o\n#Define Z como input esperado pelo usu\u00e1rio"
        },
        {
            "cell_type": "code",
            "execution_count": 9,
            "metadata": {},
            "outputs": [
                {
                    "name": "stdout",
                    "output_type": "stream",
                    "text": "Essa n\u00e3o \u00e9 bem a resposta correta, a resposta correta \u00e9:  -20.0\n"
                }
            ],
            "source": "if Z == Y:\n    print('Parab\u00e9ns')\n    \nelse:\n    print('Essa n\u00e3o \u00e9 bem a resposta correta, a resposta correta \u00e9: ', Y)\n    \n#Verifica de o Z \u00e9 igual ao Y\n#Retorna Resultados diferentes caso positivo ou negativo"
        },
        {
            "cell_type": "markdown",
            "metadata": {},
            "source": "# **<div style='text-align:center'>Exercicio 3 - Fun\u00e7\u00e3o</div>**"
        },
        {
            "cell_type": "code",
            "execution_count": 21,
            "metadata": {},
            "outputs": [
                {
                    "name": "stdout",
                    "output_type": "stream",
                    "text": "O delta ficou:  84\n\nAs raizes s\u00e3o X1 = 3.58 e X2 = -5.58.\n\n"
                }
            ],
            "source": "import math\n\na=1\nb=2\nc=-20\n\nDelta = b**2-4*a*c\nprint('O delta ficou: ',Delta)\n\nR1 = round((-b + math.sqrt(b*b - 4*a*c))/2*a, 2)\nR2 = round((-b - math.sqrt(b*b - 4*a*c))/2*a, 2)\n\n#print(R1, R2)\nprint('\\nAs raizes s\u00e3o X1 = {:.3} e X2 = {:.3}.\\n'.format(R1, R2))"
        },
        {
            "cell_type": "code",
            "execution_count": 19,
            "metadata": {},
            "outputs": [
                {
                    "name": "stdout",
                    "output_type": "stream",
                    "text": "Digite o valor para X1: 3.58\nDigite o valor para X2: -5.58\nParab\u00e9ns\n"
                }
            ],
            "source": "x1 = float(input('Digite o valor para X1: '))\nx2 = float(input('Digite o valor para X2: '))\n\nif (x1 == R1 and x2 == R2) or (x1 == R2 and x2 == R1):\n    print('Parab\u00e9ns')\n    \nelse:\n    print('Essa n\u00e3o \u00e9 bem a resposta correta, a resposta correta \u00e9: \\n', R1, R2)\n    \n#Verifica de o Z \u00e9 igual ao Y\n#Retorna Resultados diferentes caso positivo ou negativo"
        },
        {
            "cell_type": "markdown",
            "metadata": {},
            "source": "# **<div style='text-align:center'>Bonus</div>**"
        },
        {
            "cell_type": "code",
            "execution_count": 39,
            "metadata": {},
            "outputs": [
                {
                    "name": "stdout",
                    "output_type": "stream",
                    "text": "Bem vindo, que tal resolvermos Bhaskara hoje?\nA formula: 0=aX\u00b2+bX+c\nVamos definir os valores para \"a\", \"b\" e \"c\"\nDigite o valor para \"a\": 1\nDigite o valor para \"b\": 2\nDigite o valor para \"c\": -20\nLogo teremos: 0 =  1.0 X\u00b2 +  2.0 X + ( -20.0 )\nO delta ficou:  84.0\n\nAs raizes s\u00e3o X1 = 3.58 e X2 = -5.58.\n\n"
                }
            ],
            "source": "import math\nprint('Bem vindo, que tal resolvermos Bhaskara hoje?')\nprint('A formula: 0=aX\u00b2+bX+c')\nprint('Vamos definir os valores para \"a\", \"b\" e \"c\"')\na = float(input('Digite o valor para \"a\": '))\nb = float(input('Digite o valor para \"b\": '))\nc = float(input('Digite o valor para \"c\": '))\n\nif (c >= 0):\n    print(\"Logo teremos: 0 = \",a,\"X\u00b2 + \",b,\"X + \",c)\n    \nelse:\n    print(\"Logo teremos: 0 = \",a,\"X\u00b2 + \",b,\"X + (\",c,\")\")\n\nDelta = b**2-4*a*c\nprint('O delta ficou: ',Delta)\n\nR1 = round((-b + math.sqrt(b*b - 4*a*c))/2*a, 2)\nR2 = round((-b - math.sqrt(b*b - 4*a*c))/2*a, 2)\n\n#print(R1, R2)\nprint('\\nAs raizes s\u00e3o X1 = {:.3} e X2 = {:.3}.\\n'.format(R1, R2))"
        },
        {
            "cell_type": "code",
            "execution_count": null,
            "metadata": {},
            "outputs": [],
            "source": ""
        }
    ],
    "metadata": {
        "kernelspec": {
            "display_name": "Python 3.6",
            "language": "python",
            "name": "python3"
        },
        "language_info": {
            "codemirror_mode": {
                "name": "ipython",
                "version": 3
            },
            "file_extension": ".py",
            "mimetype": "text/x-python",
            "name": "python",
            "nbconvert_exporter": "python",
            "pygments_lexer": "ipython3",
            "version": "3.6.8"
        }
    },
    "nbformat": 4,
    "nbformat_minor": 1
}